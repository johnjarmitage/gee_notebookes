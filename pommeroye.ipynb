{
 "cells": [
  {
   "cell_type": "markdown",
   "metadata": {},
   "source": [
    "### Clean version of Pommeroye catchment"
   ]
  },
  {
   "cell_type": "code",
   "execution_count": 1,
   "metadata": {},
   "outputs": [],
   "source": [
    "import os\n",
    "import pandas as pd\n",
    "\n",
    "# Instal geemap package\n",
    "import subprocess\n",
    "import geemap\n",
    "\n",
    "# Authenticates and initializes Earth Engine\n",
    "import ee\n",
    "\n",
    "try:\n",
    "    ee.Initialize()\n",
    "except Exception as e:\n",
    "    ee.Authenticate()\n",
    "    ee.Initialize()"
   ]
  },
  {
   "cell_type": "markdown",
   "metadata": {},
   "source": [
    "The Pommeroy catchment is at 50°28'19.1\"N and 2°03'40.5\"E, or in decimal:"
   ]
  },
  {
   "cell_type": "code",
   "execution_count": 2,
   "metadata": {},
   "outputs": [
    {
     "name": "stdout",
     "output_type": "stream",
     "text": [
      "lat: 50.46985°N, lon: 2.0567499999999996°E\n"
     ]
    }
   ],
   "source": [
    "lat = 50 + (28/60) + 0.01*(19.1/60)\n",
    "lon = 2 + (3/60) + 0.01*(40.5/60)\n",
    "print('lat: {}°N, lon: {}°E'.format(lat, lon))"
   ]
  },
  {
   "cell_type": "code",
   "execution_count": 3,
   "metadata": {},
   "outputs": [],
   "source": [
    "# Get Sentinel 2 collections, both Level-1C (top of atmophere) and Level-2A (surface reflectance)\n",
    "MSILCcol = ee.ImageCollection('COPERNICUS/S2')\n",
    "MSI2Acol = ee.ImageCollection('COPERNICUS/S2_SR')"
   ]
  },
  {
   "cell_type": "code",
   "execution_count": 4,
   "metadata": {},
   "outputs": [],
   "source": [
    "# Define a collection filter by date, bounds, and quality.\n",
    "def colFilter(col, roi, start_date, end_date):\n",
    "    return(col\n",
    "           .filterBounds(roi)\n",
    "           .filterDate(start_date, end_date))\n",
    "\n",
    " # Function to get and rename bands of interest from MSI\n",
    "def renameMSI(img):\n",
    "    return(img.select(\n",
    "        ['B2', 'B3', 'B4', 'B5', 'B6', 'B7',\n",
    "            'B8', 'B8A', 'B11', 'B12', 'QA60'],\n",
    "        ['Blue', 'Green', 'Red', 'Red Edge 1', 'Red Edge 2', 'Red Edge 3', 'NIR', 'Red Edge 4',\n",
    "            'SWIR1', 'SWIR2', 'QA60']))\n",
    "\n",
    "# Add NBR for LandTrendr segmentation.\n",
    "def calcNbr(img):\n",
    "    return(img.addBands(img.normalizedDifference(['NIR', 'SWIR2'])\n",
    "                        .multiply(-10000).rename('NBR')).int16())\n",
    "\n",
    "# Define function to mask out clouds and cloud shadows in images.\n",
    "# Use CFmask band included in USGS Landsat SR image product.\n",
    "def fmask(img):\n",
    "    cloudOpaqueBitMask = 1 << 10\n",
    "    cloudCirrusBitMask = 1 << 11\n",
    "    qa = img.select('QA60')\n",
    "    mask = qa.bitwiseAnd(cloudOpaqueBitMask).eq(0) \\\n",
    "        .And(qa.bitwiseAnd(cloudCirrusBitMask).eq(0))\n",
    "    return(img.updateMask(mask))\n",
    "\n",
    "# Define function to prepare MSI images.\n",
    "def prepMSI(img):\n",
    "    orig = img\n",
    "    img = renameMSI(img)\n",
    "    img = fmask(img)\n",
    "    return(ee.Image(img.copyProperties(orig, orig.propertyNames()))\n",
    "           .resample('bicubic'))"
   ]
  },
  {
   "cell_type": "code",
   "execution_count": 5,
   "metadata": {},
   "outputs": [],
   "source": [
    "# Make a dummy image for missing years.\n",
    "bandNames = ee.List(['Blue', 'Green', 'Red', 'Red Edge 1',\n",
    "                     'Red Edge 2', 'Red Edge 3', 'NIR',\n",
    "                     'Red Edge 4', 'SWIR1', 'SWIR2', 'QA60'])\n",
    "fillerValues = ee.List.repeat(0, bandNames.size())\n",
    "dummyImg = ee.Image.constant(fillerValues).rename(bandNames) \\\n",
    "    .selfMask().int16()"
   ]
  },
  {
   "cell_type": "code",
   "execution_count": 6,
   "metadata": {},
   "outputs": [],
   "source": [
    "months = geemap.date_sequence('2016-01-01', '2020-01-01', 'month')\n",
    "roi=ee.Geometry.Rectangle([lon-0.05, lat-0.025, lon+0.05, lat+0.025])"
   ]
  },
  {
   "cell_type": "code",
   "execution_count": 7,
   "metadata": {},
   "outputs": [],
   "source": [
    "# Get monthly median collection.\n",
    "def getMonthlyComp(m):\n",
    "    #print(m)\n",
    "    startDate = ee.Date(m)\n",
    "    endDate = startDate.advance(ee.Number(4), 'month')  # I find that a 4 monthly average gets rid of clouds...\n",
    "\n",
    "    # Filter collections and prepare them for merging.\n",
    "    MSILCcoly = colFilter(MSILCcol, roi, startDate, endDate).map(prepMSI)\n",
    "    MSI2Acoly = colFilter(MSI2Acol, roi, startDate, endDate).map(prepMSI)\n",
    "\n",
    "    # Merge the collections.\n",
    "    col = MSILCcoly.merge(MSI2Acoly)\n",
    "\n",
    "    yearImg = col.median()\n",
    "    print('yearImg: {}'.format(type(yearImg)))\n",
    "    nBands = yearImg.bandNames().size()\n",
    "    yearImg = ee.Image(ee.Algorithms.If(\n",
    "        nBands,\n",
    "        yearImg,\n",
    "        dummyImg))\n",
    "    print('yearImg at end: {}'.format(type(yearImg)))\n",
    "    return(calcNbr(yearImg)\n",
    "           .set({'year': m, 'system:time_start': startDate.millis(), 'nBands': nBands}))"
   ]
  },
  {
   "cell_type": "code",
   "execution_count": 8,
   "metadata": {},
   "outputs": [
    {
     "name": "stdout",
     "output_type": "stream",
     "text": [
      "yearImg: <class 'ee.image.Image'>\n",
      "yearImg at end: <class 'ee.image.Image'>\n",
      "yearImg: <class 'ee.image.Image'>\n",
      "yearImg at end: <class 'ee.image.Image'>\n"
     ]
    }
   ],
   "source": [
    "imgList = months.map(getMonthlyComp)"
   ]
  },
  {
   "cell_type": "code",
   "execution_count": 9,
   "metadata": {},
   "outputs": [],
   "source": [
    "# Convert image composite list to collection\n",
    "imgCol = ee.ImageCollection.fromImages(imgList)\n",
    "imgCol = imgCol.map(lambda img: img.clip(roi))"
   ]
  },
  {
   "cell_type": "code",
   "execution_count": 13,
   "metadata": {},
   "outputs": [],
   "source": [
    "# Define arguments for animation function parameters.\n",
    "videoArgs = {\n",
    "  'dimensions': 768,\n",
    "  'region': roi,\n",
    "  'framesPerSecond': 0.1,\n",
    "  'crs': 'EPSG:3857',\n",
    "  'bands': ['Blue', 'Green', 'Red'],\n",
    "  'min': 0,\n",
    "  'max': 5000,\n",
    "  'gamma': 1.3\n",
    "}"
   ]
  },
  {
   "cell_type": "code",
   "execution_count": 14,
   "metadata": {},
   "outputs": [
    {
     "name": "stdout",
     "output_type": "stream",
     "text": [
      "Generating URL...\n",
      "Downloading GIF image from https://earthengine.googleapis.com/v1alpha/projects/earthengine-legacy/videoThumbnails/f68cf3936d0aabba344ead13b499b4c6-1422424941c6bfb2add1991f724679ca:getPixels\n",
      "Please wait ...\n",
      "The GIF image has been saved to: /work/armitagj/Downloads/pommeroye.gif\n"
     ]
    }
   ],
   "source": [
    "saved_gif = os.path.join(os.path.expanduser('~'), 'Downloads/pommeroye.gif')\n",
    "geemap.download_ee_video(imgCol, videoArgs, saved_gif)"
   ]
  },
  {
   "cell_type": "code",
   "execution_count": 15,
   "metadata": {},
   "outputs": [],
   "source": [
    "text = pd.date_range('1/1/2016','1/31/2020',freq='MS').strftime('%Y-%m-%d')\n",
    "out_gif = os.path.join(os.path.expanduser('~'), 'Downloads/pommeroye2.gif')\n",
    "geemap.add_text_to_gif(saved_gif, out_gif, xy=('3%', '5%'), text_sequence=text, font_size=30, font_color='#ffffff')\n",
    "geemap.add_text_to_gif(out_gif, out_gif, xy=('32%', '92%'), text_sequence='Pommeroye Catchment', font_color='white')"
   ]
  },
  {
   "cell_type": "code",
   "execution_count": 16,
   "metadata": {},
   "outputs": [],
   "source": [
    "!convert ~/Downloads/pommeroye2.gif -fuzz 23.5% -layers Optimize ~/Downloads/pommeroye_compressed.gif"
   ]
  },
  {
   "cell_type": "code",
   "execution_count": null,
   "metadata": {},
   "outputs": [],
   "source": []
  }
 ],
 "metadata": {
  "kernelspec": {
   "display_name": "Python 3",
   "language": "python",
   "name": "python3"
  },
  "language_info": {
   "codemirror_mode": {
    "name": "ipython",
    "version": 3
   },
   "file_extension": ".py",
   "mimetype": "text/x-python",
   "name": "python",
   "nbconvert_exporter": "python",
   "pygments_lexer": "ipython3",
   "version": "3.8.6"
  }
 },
 "nbformat": 4,
 "nbformat_minor": 4
}
