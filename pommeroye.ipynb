{
 "cells": [
  {
   "cell_type": "markdown",
   "metadata": {},
   "source": [
    "### Use Google Earth Engine and `geemap` to get repeat images of the Pommeroye catchment\n",
    "\n",
    "(See https://github.com/giswqs)"
   ]
  },
  {
   "cell_type": "code",
   "execution_count": 1,
   "metadata": {},
   "outputs": [],
   "source": [
    "import os\n",
    "\n",
    "# Instal geemap package\n",
    "import subprocess\n",
    "import geemap\n",
    "\n",
    "# Authenticates and initializes Earth Engine\n",
    "import ee\n",
    "\n",
    "try:\n",
    "    ee.Initialize()\n",
    "except Exception as e:\n",
    "    ee.Authenticate()\n",
    "    ee.Initialize()"
   ]
  },
  {
   "cell_type": "markdown",
   "metadata": {},
   "source": [
    "The Pommeroy catchment is at 50°28'19.1\"N and 2°03'40.5\"E, or in decimal:"
   ]
  },
  {
   "cell_type": "code",
   "execution_count": 2,
   "metadata": {},
   "outputs": [
    {
     "name": "stdout",
     "output_type": "stream",
     "text": [
      "lat: 50.46985°N, lon: 2.0567499999999996°E\n"
     ]
    }
   ],
   "source": [
    "lat = 50 + (28/60) + 0.01*(19.1/60)\n",
    "lon = 2 + (3/60) + 0.01*(40.5/60)\n",
    "print('lat: {}°N, lon: {}°E'.format(lat, lon))"
   ]
  },
  {
   "cell_type": "code",
   "execution_count": 10,
   "metadata": {},
   "outputs": [
    {
     "data": {
      "application/vnd.jupyter.widget-view+json": {
       "model_id": "83ce33f0e6d74b92b634abba77e9177e",
       "version_major": 2,
       "version_minor": 0
      },
      "text/plain": [
       "Map(center=[50.46985, 2.0567499999999996], controls=(WidgetControl(options=['position'], widget=HBox(children=…"
      ]
     },
     "metadata": {},
     "output_type": "display_data"
    }
   ],
   "source": [
    "Map = geemap.Map(center=[lat, lon], zoom=16)\n",
    "Map"
   ]
  },
  {
   "cell_type": "markdown",
   "metadata": {},
   "source": [
    "### Landsat images\n",
    "\n",
    "Add Landsat 8 images (as done here https://github.com/giswqs/earthengine-py-notebooks/blob/master/GetStarted/03_finding_images.ipynb)"
   ]
  },
  {
   "cell_type": "code",
   "execution_count": 4,
   "metadata": {},
   "outputs": [],
   "source": [
    "# Add Earth Engine dataset\n",
    "collection = ee.ImageCollection('LANDSAT/LC08/C01/T1')\n",
    "\n",
    "point = ee.Geometry.Point(lon, lat)\n",
    "start = ee.Date('2018-01-01')\n",
    "finish = ee.Date('2018-06-30')\n",
    "\n",
    "filteredCollection = ee.ImageCollection('LANDSAT/LC08/C01/T1') \\\n",
    "    .filterBounds(point) \\\n",
    "    .filterDate(start, finish) \\\n",
    "    .sort('CLOUD_COVER', True)\n",
    "\n",
    "first = filteredCollection.first()\n",
    "# Define visualization parameters in an object literal.\n",
    "vizParams = {'bands': ['B5', 'B4', 'B3'],\n",
    "             'min': 5000, 'max': 15000, 'gamma': 1.3}\n",
    "Map.addLayer(first, vizParams, 'Landsat 8 image')"
   ]
  },
  {
   "cell_type": "markdown",
   "metadata": {},
   "source": [
    "Make a timelaps of Landsat 8 using `geemap` (https://gist.github.com/giswqs/bab47213f0cbd3d1073ea47b01331c62)"
   ]
  },
  {
   "cell_type": "code",
   "execution_count": 5,
   "metadata": {},
   "outputs": [
    {
     "name": "stdout",
     "output_type": "stream",
     "text": [
      "Generating URL...\n",
      "Downloading GIF image from https://earthengine.googleapis.com/v1alpha/projects/earthengine-legacy/videoThumbnails/270008379049c51e10f12e806df9ad76-228695853183fa0c33d1e750799b18dd:getPixels\n",
      "Please wait ...\n",
      "The GIF image has been saved to: /work/armitagj/Downloads/landsat_ts_nmp.gif\n",
      "Generating URL...\n",
      "Downloading GIF image from https://earthengine.googleapis.com/v1alpha/projects/earthengine-legacy/videoThumbnails/fabd3f8f8c3ef0132263ba0753473a3b-a6f1d8aa76750c80115f61296c022585:getPixels\n",
      "Please wait ...\n",
      "The GIF image has been saved to: /work/armitagj/Downloads/landsat_ts_nmp_nd.gif\n",
      "Adding animated text to GIF ...\n",
      "Adding GIF to the map ...\n",
      "The timelapse has been added to the map.\n"
     ]
    }
   ],
   "source": [
    "Map.setCenter(lon, lat, 16)\n",
    "Map.add_landsat_ts_gif(roi=ee.Geometry.Rectangle([lon-0.1, lat-0.05, lon+0.1, lat+0.05]),\n",
    "                       label='Pommeyore, Northern France',\n",
    "                       bands=['SWIR1', 'NIR', 'Red'],\n",
    "                       nd_bands=['Green', 'SWIR1'],\n",
    "                       nd_palette=['black', 'blue'],\n",
    "                       start_year=2016,\n",
    "                       start_date='01-01',\n",
    "                       end_year=2019,\n",
    "                       end_date='12-31',\n",
    "                       frames_per_second=1)"
   ]
  },
  {
   "cell_type": "markdown",
   "metadata": {},
   "source": [
    "### Sentinel-2 images\n",
    "\n",
    "A wee hack to try and do the same thing as `add_landsat_ts_gif` but for Sentinel-2 images, as there is a greater repeat for this satellite (I think). Start off with the existing function:"
   ]
  },
  {
   "cell_type": "code",
   "execution_count": 6,
   "metadata": {},
   "outputs": [],
   "source": [
    "collection = geemap.sentinel2_timeseries(roi=ee.Geometry.Rectangle([lon-0.1, lat-0.05, lon+0.1, lat+0.05]),\n",
    "                                         start_year=2016,\n",
    "                                         end_year=2019,\n",
    "                                         start_date='01-01',\n",
    "                                         end_date='12-31')"
   ]
  },
  {
   "cell_type": "markdown",
   "metadata": {},
   "source": [
    "Then export the image (https://github.com/giswqs/geemap/blob/master/examples/notebooks/11_export_image.ipynb)"
   ]
  },
  {
   "cell_type": "code",
   "execution_count": 7,
   "metadata": {},
   "outputs": [],
   "source": [
    "out_dir = os.path.join(os.path.expanduser('~'), 'Downloads')"
   ]
  },
  {
   "cell_type": "code",
   "execution_count": 8,
   "metadata": {},
   "outputs": [
    {
     "name": "stdout",
     "output_type": "stream",
     "text": [
      "['0', '1', '2', '3']\n"
     ]
    }
   ],
   "source": [
    "print(collection.aggregate_array('system:index').getInfo())"
   ]
  },
  {
   "cell_type": "code",
   "execution_count": 9,
   "metadata": {},
   "outputs": [
    {
     "name": "stdout",
     "output_type": "stream",
     "text": [
      "Total number of images: 4\n",
      "\n",
      "Exporting 1/4: 0.tif\n",
      "Generating URL ...\n",
      "Downloading data from https://earthengine.googleapis.com/v1alpha/projects/earthengine-legacy/thumbnails/9f83221c529a98e3ce34a39a7ed936dc-95af5e52c4e29e431e4805c7a683483a:getPixels\n",
      "Please wait ...\n",
      "Data downloaded to /work/armitagj/Downloads/0.tif\n",
      "\n",
      "\n",
      "Exporting 2/4: 1.tif\n",
      "Generating URL ...\n",
      "Downloading data from https://earthengine.googleapis.com/v1alpha/projects/earthengine-legacy/thumbnails/1abe4e4cf9b38e9921c37b40c58ef43d-54b61272869ebbbea5d1d640acd7e85c:getPixels\n",
      "Please wait ...\n",
      "Data downloaded to /work/armitagj/Downloads/1.tif\n",
      "\n",
      "\n",
      "Exporting 3/4: 2.tif\n",
      "Generating URL ...\n",
      "Downloading data from https://earthengine.googleapis.com/v1alpha/projects/earthengine-legacy/thumbnails/520010a5dc70d3f85d62edcf61592f80-99dcdbc97657034c32a0be75b34645c2:getPixels\n",
      "Please wait ...\n",
      "Data downloaded to /work/armitagj/Downloads/2.tif\n",
      "\n",
      "\n",
      "Exporting 4/4: 3.tif\n",
      "Generating URL ...\n",
      "Downloading data from https://earthengine.googleapis.com/v1alpha/projects/earthengine-legacy/thumbnails/a2c8069a997499abfc0f7cbde9ef6303-65be7bb802a33a7443b52df9d5d84acb:getPixels\n",
      "Please wait ...\n",
      "Data downloaded to /work/armitagj/Downloads/3.tif\n",
      "\n",
      "\n"
     ]
    }
   ],
   "source": [
    "geemap.ee_export_image_collection(collection, out_dir=out_dir)"
   ]
  },
  {
   "cell_type": "code",
   "execution_count": null,
   "metadata": {},
   "outputs": [],
   "source": [
    "first = collection.first()\n",
    "# Define visualization parameters in an object literal.\n",
    "vizParams = {'bands': ['Blue', 'Green', 'Red'],\n",
    "             'min': 0, 'max': 5000, 'gamma': 1.3}\n",
    "Map.addLayer(first, vizParams, 'Sentinel-2 image')"
   ]
  },
  {
   "cell_type": "markdown",
   "metadata": {},
   "source": [
    "Now have a look inside and build my own monthly image set:\n",
    "(functions from https://giswqs.github.io/geemap/eefolium/#geemap.eefolium.sentinel2_timeseries)"
   ]
  },
  {
   "cell_type": "code",
   "execution_count": 11,
   "metadata": {},
   "outputs": [],
   "source": [
    "# Get Sentinel 2 collections, both Level-1C (top of atmophere) and Level-2A (surface reflectance)\n",
    "MSILCcol = ee.ImageCollection('COPERNICUS/S2')\n",
    "MSI2Acol = ee.ImageCollection('COPERNICUS/S2_SR')\n",
    "MSI2Cloudcol = ee.ImageCollection(\"COPERNICUS/S2_CLOUD_PROBABILITY\")"
   ]
  },
  {
   "cell_type": "code",
   "execution_count": 12,
   "metadata": {},
   "outputs": [],
   "source": [
    "# Define a collection filter by date, bounds, and quality.\n",
    "def colFilter(col, roi, start_date, end_date):\n",
    "    return(col\n",
    "           .filterBounds(roi)\n",
    "           .filterDate(start_date, end_date))"
   ]
  },
  {
   "cell_type": "code",
   "execution_count": 13,
   "metadata": {},
   "outputs": [],
   "source": [
    " # Function to get and rename bands of interest from MSI\n",
    "def renameMSI(img):\n",
    "    return(img.select(\n",
    "        ['B2', 'B3', 'B4', 'B5', 'B6', 'B7',\n",
    "            'B8', 'B8A', 'B11', 'B12', 'QA60'],\n",
    "        ['Blue', 'Green', 'Red', 'Red Edge 1', 'Red Edge 2', 'Red Edge 3', 'NIR', 'Red Edge 4',\n",
    "            'SWIR1', 'SWIR2', 'QA60']))\n",
    "\n",
    "# Add NBR for LandTrendr segmentation.\n",
    "def calcNbr(img):\n",
    "    return(img.addBands(img.normalizedDifference(['NIR', 'SWIR2'])\n",
    "                        .multiply(-10000).rename('NBR')).int16())\n",
    "\n",
    "# Define function to mask out clouds and cloud shadows in images.\n",
    "# Use CFmask band included in USGS Landsat SR image product.\n",
    "def fmask(img):\n",
    "    cloudOpaqueBitMask = 1 << 10\n",
    "    cloudCirrusBitMask = 1 << 11\n",
    "    qa = img.select('QA60')\n",
    "    mask = qa.bitwiseAnd(cloudOpaqueBitMask).eq(0) \\\n",
    "        .And(qa.bitwiseAnd(cloudCirrusBitMask).eq(0))\n",
    "    return(img.updateMask(mask))\n",
    "\n",
    "# Define function to prepare MSI images.\n",
    "def prepMSI(img):\n",
    "    orig = img\n",
    "    img = renameMSI(img)\n",
    "    img = fmask(img)\n",
    "    return(ee.Image(img.copyProperties(orig, orig.propertyNames()))\n",
    "           .resample('bicubic'))"
   ]
  },
  {
   "cell_type": "code",
   "execution_count": 14,
   "metadata": {},
   "outputs": [],
   "source": [
    "# Make a dummy image for missing years.\n",
    "bandNames = ee.List(['Blue', 'Green', 'Red', 'Red Edge 1',\n",
    "                     'Red Edge 2', 'Red Edge 3', 'NIR',\n",
    "                     'Red Edge 4', 'SWIR1', 'SWIR2', 'QA60'])\n",
    "fillerValues = ee.List.repeat(0, bandNames.size())\n",
    "dummyImg = ee.Image.constant(fillerValues).rename(bandNames) \\\n",
    "    .selfMask().int16()"
   ]
  },
  {
   "cell_type": "markdown",
   "metadata": {},
   "source": [
    "Make a list of dates for the months"
   ]
  },
  {
   "cell_type": "code",
   "execution_count": 15,
   "metadata": {},
   "outputs": [],
   "source": [
    "months = geemap.date_sequence('2016-01-01', '2019-01-01', 'month')\n",
    "roi=ee.Geometry.Rectangle([lon-0.1, lat-0.05, lon+0.1, lat+0.05])"
   ]
  },
  {
   "cell_type": "code",
   "execution_count": 22,
   "metadata": {},
   "outputs": [],
   "source": [
    "# Get monthly median collection.\n",
    "def getMonthlyComp(m):\n",
    "    #print(m)\n",
    "    startDate = ee.Date(m)\n",
    "    endDate = startDate.advance(ee.Number(4), 'month')  # I find that a 4 monthly average gets rid of clouds...\n",
    "\n",
    "    # Filter collections and prepare them for merging.\n",
    "    MSILCcoly = colFilter(MSILCcol, roi, startDate, endDate).map(prepMSI)\n",
    "    MSI2Acoly = colFilter(MSI2Acol, roi, startDate, endDate).map(prepMSI)\n",
    "\n",
    "    # Merge the collections.\n",
    "    col = MSILCcoly.merge(MSI2Acoly)\n",
    "\n",
    "    yearImg = col.median()\n",
    "    print('yearImg: {}'.format(type(yearImg)))\n",
    "    nBands = yearImg.bandNames().size()\n",
    "    yearImg = ee.Image(ee.Algorithms.If(\n",
    "        nBands,\n",
    "        yearImg,\n",
    "        dummyImg))\n",
    "    print('yearImg at end: {}'.format(type(yearImg)))\n",
    "    return(calcNbr(yearImg)\n",
    "           .set({'year': m, 'system:time_start': startDate.millis(), 'nBands': nBands}))"
   ]
  },
  {
   "cell_type": "code",
   "execution_count": 23,
   "metadata": {},
   "outputs": [
    {
     "name": "stdout",
     "output_type": "stream",
     "text": [
      "yearImg: <class 'ee.image.Image'>\n",
      "yearImg at end: <class 'ee.image.Image'>\n",
      "yearImg: <class 'ee.image.Image'>\n",
      "yearImg at end: <class 'ee.image.Image'>\n"
     ]
    }
   ],
   "source": [
    "imgList = months.map(getMonthlyComp)"
   ]
  },
  {
   "cell_type": "code",
   "execution_count": 24,
   "metadata": {},
   "outputs": [],
   "source": [
    "# Convert image composite list to collection\n",
    "imgCol = ee.ImageCollection.fromImages(imgList)\n",
    "imgCol = imgCol.map(lambda img: img.clip(roi))"
   ]
  },
  {
   "cell_type": "code",
   "execution_count": 25,
   "metadata": {},
   "outputs": [
    {
     "name": "stdout",
     "output_type": "stream",
     "text": [
      "['0', '1', '2', '3', '4', '5', '6', '7', '8', '9', '10', '11', '12', '13', '14', '15', '16', '17', '18', '19', '20', '21', '22', '23', '24', '25', '26', '27', '28', '29', '30', '31', '32', '33', '34', '35', '36']\n"
     ]
    }
   ],
   "source": [
    "print(imgCol.aggregate_array('system:index').getInfo())"
   ]
  },
  {
   "cell_type": "markdown",
   "metadata": {},
   "source": [
    "Check..."
   ]
  },
  {
   "cell_type": "code",
   "execution_count": null,
   "metadata": {},
   "outputs": [],
   "source": [
    "first = imgCol.first()\n",
    "# Define visualization parameters in an object literal.\n",
    "vizParams = {'bands': ['Blue', 'Green', 'Red'],\n",
    "             'min': 0, 'max': 3000, 'gamma': 1.3}\n",
    "Map.addLayer(first, vizParams, 'Sentinel-2 image')"
   ]
  },
  {
   "cell_type": "code",
   "execution_count": null,
   "metadata": {},
   "outputs": [],
   "source": [
    "#Oh my God"
   ]
  },
  {
   "cell_type": "markdown",
   "metadata": {},
   "source": [
    "Put monthly collection into a animated gif (https://github.com/giswqs/geemap/blob/master/examples/notebooks/16_add_animated_text.ipynb)"
   ]
  },
  {
   "cell_type": "code",
   "execution_count": 26,
   "metadata": {},
   "outputs": [],
   "source": [
    "# Define arguments for animation function parameters.\n",
    "videoArgs = {\n",
    "  'dimensions': 768,\n",
    "  'region': roi,\n",
    "  'framesPerSecond': 1,\n",
    "  'crs': 'EPSG:3857',\n",
    "  'bands': ['Blue', 'Green', 'Red'],\n",
    "  'min': 0,\n",
    "  'max': 5000,\n",
    "  'gamma': 1.3\n",
    "}"
   ]
  },
  {
   "cell_type": "code",
   "execution_count": 27,
   "metadata": {},
   "outputs": [
    {
     "name": "stdout",
     "output_type": "stream",
     "text": [
      "Generating URL...\n",
      "Downloading GIF image from https://earthengine.googleapis.com/v1alpha/projects/earthengine-legacy/videoThumbnails/7ec3e2e9a20e89da76d54927cc029fc2-43929d80fe90259bc0c9acc3dd9d57b6:getPixels\n",
      "Please wait ...\n",
      "The GIF image has been saved to: /work/armitagj/Downloads/pommeyore.gif\n"
     ]
    }
   ],
   "source": [
    "saved_gif = os.path.join(os.path.expanduser('~'), 'Downloads/pommeyore.gif')\n",
    "geemap.download_ee_video(imgCol, videoArgs, saved_gif)"
   ]
  },
  {
   "cell_type": "code",
   "execution_count": null,
   "metadata": {},
   "outputs": [],
   "source": [
    "# To do: add text to gif..."
   ]
  },
  {
   "cell_type": "markdown",
   "metadata": {},
   "source": [
    "### Alternative cloud mask\n",
    "\n",
    "(This does not work... yet)\n",
    "\n",
    "https://developers.google.com/earth-engine/datasets/catalog/COPERNICUS_S2_CLOUD_PROBABILITY"
   ]
  },
  {
   "cell_type": "code",
   "execution_count": null,
   "metadata": {},
   "outputs": [],
   "source": [
    "# Alternative function to mask clouds\n",
    "# https://developers.google.com/earth-engine/datasets/catalog/COPERNICUS_S2_CLOUD_PROBABILITY\n",
    "def maskClouds(img):\n",
    "    MAX_CLOUD_PROBABILITY = 65\n",
    "    clouds = ee.Image(img.get('cloud_mask')).select('probability')\n",
    "    isNotCloud = clouds.lt(MAX_CLOUD_PROBABILITY)\n",
    "    return(img.updateMask(isNotCloud))"
   ]
  },
  {
   "cell_type": "code",
   "execution_count": null,
   "metadata": {},
   "outputs": [],
   "source": [
    "# Define function to prepare MSI images.\n",
    "def new_prepMSI(img):\n",
    "    orig = img\n",
    "    img = renameMSI(img)\n",
    "    return(ee.Image(img.copyProperties(orig, orig.propertyNames()))\n",
    "           .resample('bicubic'))"
   ]
  },
  {
   "cell_type": "markdown",
   "metadata": {},
   "source": [
    "Javascript:\n",
    "```\n",
    "var s2Sr = ee.ImageCollection('COPERNICUS/S2_SR');\n",
    "var s2Clouds = ee.ImageCollection('COPERNICUS/S2_CLOUD_PROBABILITY');\n",
    "\n",
    "var START_DATE = ee.Date('2019-01-01');\n",
    "var END_DATE = ee.Date('2019-03-01');\n",
    "var MAX_CLOUD_PROBABILITY = 65;\n",
    "var region =\n",
    "    ee.Geometry.Rectangle({coords: [-76.5, 2.0, -74, 4.0], geodesic: false});\n",
    "Map.centerObject(region, 12);\n",
    "\n",
    "function maskClouds(img) {\n",
    "  var clouds = ee.Image(img.get('cloud_mask')).select('probability');\n",
    "  var isNotCloud = clouds.lt(MAX_CLOUD_PROBABILITY);\n",
    "  return img.updateMask(isNotCloud);\n",
    "}\n",
    "\n",
    "// The masks for the 10m bands sometimes do not exclude bad data at\n",
    "// scene edges, so we apply masks from the 20m and 60m bands as well.\n",
    "// Example asset that needs this operation:\n",
    "// COPERNICUS/S2_CLOUD_PROBABILITY/20190301T000239_20190301T000238_T55GDP\n",
    "function maskEdges(s2_img) {\n",
    "  return s2_img.updateMask(\n",
    "      s2_img.select('B8A').mask().updateMask(s2_img.select('B9').mask()));\n",
    "}\n",
    "\n",
    "// Filter input collections by desired data range and region.\n",
    "var criteria = ee.Filter.and(\n",
    "    ee.Filter.bounds(region), ee.Filter.date(START_DATE, END_DATE));\n",
    "s2Sr = s2Sr.filter(criteria).map(maskEdges);\n",
    "s2Clouds = s2Clouds.filter(criteria);\n",
    "\n",
    "// Join S2 SR with cloud probability dataset to add cloud mask.\n",
    "var s2SrWithCloudMask = ee.Join.saveFirst('cloud_mask').apply({\n",
    "  primary: s2Sr,\n",
    "  secondary: s2Clouds,\n",
    "  condition:\n",
    "      ee.Filter.equals({leftField: 'system:index', rightField: 'system:index'})\n",
    "});\n",
    "\n",
    "var s2CloudMasked =\n",
    "    ee.ImageCollection(s2SrWithCloudMask).map(maskClouds).median();\n",
    "var rgbVis = {min: 0, max: 3000, bands: ['B4', 'B3', 'B2']};\n",
    "\n",
    "Map.addLayer(\n",
    "    s2CloudMasked, rgbVis, 'S2 SR masked at ' + MAX_CLOUD_PROBABILITY + '%',\n",
    "    true);\n",
    "```"
   ]
  },
  {
   "cell_type": "code",
   "execution_count": null,
   "metadata": {},
   "outputs": [],
   "source": [
    "def getMonthlywithCloudMask(m):\n",
    "    startDate = ee.Date(m)\n",
    "    endDate = startDate.advance(ee.Number(4), 'month')\n",
    "\n",
    "    # Filter collections and prepare them for merging.\n",
    "    MSILCcoly = colFilter(MSILCcol, roi, startDate, endDate).map(prepMSI)\n",
    "    MSI2Acoly = colFilter(MSI2Acol, roi, startDate, endDate).map(prepMSI)\n",
    "    # MSI2Acloudcoly = colFilter(MSI2Cloudcol, roi, startDate, endDate).map(new_prepMSI)\n",
    "    print('MSI2Acoly: {}'.format(type(MSI2Acoly)))\n",
    "\n",
    "    # Merge the collections.\n",
    "    col = MSILCcoly.merge(MSI2Acoly)\n",
    "    print('col: {}'.format(type(col)))\n",
    "    \n",
    "    # Join MSI with cloud probability dataset to add cloud mask.\n",
    "    # colWithCloudMask = ee.Join.saveFirst('cloud_mask').apply(primary=col, secondary=MSI2Acloudcoly,\n",
    "    #     condition = ee.Filter.equals(leftField='system:index', rightField='system:index'))\n",
    "    # print('colWithCloudMask: {}'.format(type(colWithCloudMask)))\n",
    "    \n",
    "    yearImg = col.median()\n",
    "    print('yearImg: {}'.format(type(yearImg)))\n",
    "    \n",
    "    # yearImg = col.median()\n",
    "    # print('yearImg: {}'.format(type(yearImg)))\n",
    "    \n",
    "    nBands = yearImg.bandNames().size()\n",
    "    yearImg = ee.Image(ee.Algorithms.If(\n",
    "        nBands,\n",
    "        yearImg,\n",
    "        dummyImg))\n",
    "    print('yearImg at end: {}'.format(type(yearImg)))\n",
    "    return(calcNbr(yearImg)\n",
    "           .set({'year': m, 'system:time_start': startDate.millis(), 'nBands': nBands}))"
   ]
  },
  {
   "cell_type": "code",
   "execution_count": null,
   "metadata": {},
   "outputs": [],
   "source": [
    "imgList = months.map(getMonthlywithCloudMask)"
   ]
  },
  {
   "cell_type": "code",
   "execution_count": null,
   "metadata": {},
   "outputs": [],
   "source": [
    "# Convert image composite list to collection\n",
    "imgCol = ee.ImageCollection.fromImages(imgList)\n",
    "imgCol = imgCol.map(lambda img: img.clip(roi))"
   ]
  },
  {
   "cell_type": "code",
   "execution_count": null,
   "metadata": {},
   "outputs": [],
   "source": [
    "print(imgCol.aggregate_array('system:index').getInfo())"
   ]
  },
  {
   "cell_type": "code",
   "execution_count": null,
   "metadata": {},
   "outputs": [],
   "source": [
    "Map = geemap.Map(center=[lat, lon], zoom=16)\n",
    "Map"
   ]
  },
  {
   "cell_type": "code",
   "execution_count": null,
   "metadata": {},
   "outputs": [],
   "source": [
    "first = imgCol.first()\n",
    "# Define visualization parameters in an object literal.\n",
    "vizParams = {'bands': ['Blue', 'Green', 'Red'],\n",
    "             'min': 0, 'max': 3000, 'gamma': 1.3}\n",
    "Map.addLayer(first, vizParams, 'Sentinel-2 image')"
   ]
  },
  {
   "cell_type": "code",
   "execution_count": null,
   "metadata": {},
   "outputs": [],
   "source": [
    "saved_gif = os.path.join(os.path.expanduser('~'), 'Downloads/pommeyore_4month_median.gif')\n",
    "geemap.download_ee_video(imgCol, videoArgs, saved_gif)"
   ]
  },
  {
   "cell_type": "code",
   "execution_count": null,
   "metadata": {},
   "outputs": [],
   "source": []
  }
 ],
 "metadata": {
  "kernelspec": {
   "display_name": "Python 3",
   "language": "python",
   "name": "python3"
  },
  "language_info": {
   "codemirror_mode": {
    "name": "ipython",
    "version": 3
   },
   "file_extension": ".py",
   "mimetype": "text/x-python",
   "name": "python",
   "nbconvert_exporter": "python",
   "pygments_lexer": "ipython3",
   "version": "3.8.6"
  }
 },
 "nbformat": 4,
 "nbformat_minor": 4
}
